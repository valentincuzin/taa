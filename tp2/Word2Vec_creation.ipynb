{
 "cells": [
  {
   "cell_type": "code",
   "execution_count": 1,
   "id": "32c23afa",
   "metadata": {},
   "outputs": [],
   "source": [
    "import numpy as np \n",
    "np.set_printoptions(threshold=10000,suppress=True) \n",
    "import pandas as pd\n",
    "import warnings\n",
    "import matplotlib.pyplot as plt \n",
    "warnings.filterwarnings('ignore')"
   ]
  },
  {
   "cell_type": "code",
   "execution_count": null,
   "id": "3bc6a0c6",
   "metadata": {},
   "outputs": [],
   "source": [
    "data=pd.read_csv(' ',sep=' ',encoding=\" \")\n",
    "data.head(3)"
   ]
  },
  {
   "cell_type": "code",
   "execution_count": 3,
   "id": "3f51b2f7",
   "metadata": {},
   "outputs": [],
   "source": [
    "corpus=data['Text']"
   ]
  },
  {
   "cell_type": "code",
   "execution_count": 4,
   "id": "f674c07b",
   "metadata": {},
   "outputs": [],
   "source": [
    "import gensim"
   ]
  },
  {
   "cell_type": "markdown",
   "id": "cb0ae999",
   "metadata": {},
   "source": [
    "## Apprentissage du Word2vec"
   ]
  },
  {
   "cell_type": "code",
   "execution_count": 5,
   "id": "af726910",
   "metadata": {},
   "outputs": [],
   "source": [
    "corpus = corpus.apply(lambda line : gensim.utils.simple_preprocess((line)))"
   ]
  },
  {
   "cell_type": "code",
   "execution_count": 1,
   "id": "3860f7b1",
   "metadata": {},
   "outputs": [],
   "source": [
    "#Ici le code suivant a besoin de votre corpus de texte où chaque texte est tokenizé (une liste de tokens)"
   ]
  },
  {
   "cell_type": "code",
   "execution_count": 7,
   "id": "fba78cea",
   "metadata": {},
   "outputs": [
    {
     "data": {
      "text/plain": [
       "10"
      ]
     },
     "execution_count": 7,
     "metadata": {},
     "output_type": "execute_result"
    }
   ],
   "source": [
    "import multiprocessing\n",
    "cores=multiprocessing.cpu_count()\n",
    "cores"
   ]
  },
  {
   "cell_type": "code",
   "execution_count": 8,
   "id": "a98fb377",
   "metadata": {},
   "outputs": [],
   "source": [
    "model_size=100\n",
    "model=gensim.models.Word2Vec(corpus,vector_size=model_size,sg=0,window=5,min_count=2,workers=cores-1)"
   ]
  },
  {
   "cell_type": "code",
   "execution_count": 12,
   "id": "aa2427ba",
   "metadata": {
    "scrolled": true
   },
   "outputs": [
    {
     "name": "stdout",
     "output_type": "stream",
     "text": [
      "0 1 2 3 4 5 6 7 8 9 10 11 12 13 14 15 16 17 18 19 20 21 22 23 24 25 26 27 28 29 30 31 32 33 34 35 36 37 38 39 40 41 42 43 44 45 46 47 48 49 50 51 52 53 54 55 56 57 58 59 60 61 62 63 64 65 66 67 68 69 70 71 72 73 74 75 76 77 78 79 80 81 82 83 84 85 86 87 88 89 90 91 92 93 94 95 96 97 98 99 "
     ]
    }
   ],
   "source": [
    "for i in range(100):\n",
    "    model.train(corpus,total_examples=len(corpus),epochs=1)\n",
    "    print(i, end=' ')"
   ]
  },
  {
   "cell_type": "code",
   "execution_count": 13,
   "id": "4dd83181",
   "metadata": {},
   "outputs": [],
   "source": [
    "model.save('../models/Word2vec_entraine.h5')"
   ]
  },
  {
   "cell_type": "code",
   "execution_count": 14,
   "id": "e8b60e4b",
   "metadata": {},
   "outputs": [],
   "source": [
    "model=gensim.models.Word2Vec.load('../models/Word2vec_entraine.h5')"
   ]
  },
  {
   "cell_type": "code",
   "execution_count": 15,
   "id": "cc0b0b26",
   "metadata": {},
   "outputs": [
    {
     "data": {
      "text/plain": [
       "34269"
      ]
     },
     "execution_count": 15,
     "metadata": {},
     "output_type": "execute_result"
    }
   ],
   "source": [
    "len(model.wv.index_to_key)"
   ]
  },
  {
   "cell_type": "code",
   "execution_count": 16,
   "id": "d2c62325",
   "metadata": {},
   "outputs": [
    {
     "data": {
      "text/plain": [
       "array([-0.663523  ,  0.48704475, -0.29130507,  0.09817669, -2.4124255 ,\n",
       "       -0.66274035, -1.2819668 ,  0.7257124 ,  0.34833205, -0.44960335,\n",
       "       -0.05920684, -2.155815  ,  0.844793  , -3.177553  ,  0.10661714,\n",
       "        0.0681667 ,  1.9510496 ,  2.4430745 , -0.10884288,  0.40583977,\n",
       "       -1.5429975 ,  0.7907237 ,  0.6034332 ,  0.99428886,  0.8319442 ,\n",
       "       -3.0264728 , -1.8029993 ,  2.145028  , -0.7196177 , -0.13528213,\n",
       "        0.70985115,  1.556529  ,  1.3476598 , -1.4497552 ,  1.8267361 ,\n",
       "        1.3544207 ,  0.39077958,  0.24505036, -2.8197005 ,  0.3780027 ,\n",
       "        1.5865445 , -1.4379376 ,  0.9247621 ,  0.39285553, -1.1240542 ,\n",
       "       -0.47039288,  1.9939768 ,  1.7015936 ,  1.6183431 , -1.6785774 ,\n",
       "        0.05598402,  1.2721634 ,  3.1114435 ,  2.7275815 , -0.5730655 ,\n",
       "        1.2540784 ,  0.14449047,  0.00545885,  1.1682687 , -0.33682674,\n",
       "       -1.5003449 ,  0.04740997,  0.78144735, -0.86427855,  1.3558648 ,\n",
       "        1.4468167 , -0.12426405, -0.04227358,  2.5648909 ,  0.256576  ,\n",
       "        0.87330097, -1.1255957 ,  1.8656118 , -1.7015798 ,  0.120363  ,\n",
       "        1.0934626 , -0.22488473,  0.42997673,  0.8515243 ,  3.8209143 ,\n",
       "        1.5115935 , -1.7715199 ,  0.27200848, -3.890155  ,  0.90900815,\n",
       "       -3.077835  , -0.43923375,  0.78831697,  1.9630201 ,  0.853141  ,\n",
       "        0.20320566, -0.79011685,  0.739893  , -0.6396473 , -1.133244  ,\n",
       "        2.3151479 , -2.2372603 ,  2.3472562 , -2.3959873 , -1.0195969 ],\n",
       "      dtype=float32)"
      ]
     },
     "execution_count": 16,
     "metadata": {},
     "output_type": "execute_result"
    }
   ],
   "source": [
    "model.wv['easy']"
   ]
  },
  {
   "cell_type": "code",
   "execution_count": 17,
   "id": "9500be5a",
   "metadata": {},
   "outputs": [
    {
     "data": {
      "text/plain": [
       "[('thanks', 0.6278936862945557),\n",
       " ('bless', 0.5447596311569214),\n",
       " ('sorry', 0.4637860953807831),\n",
       " ('forbid', 0.45080479979515076),\n",
       " ('orbs', 0.407461941242218),\n",
       " ('thanking', 0.4048599600791931),\n",
       " ('hi', 0.40376967191696167),\n",
       " ('hello', 0.4000455141067505),\n",
       " ('salute', 0.3964287340641022),\n",
       " ('believers', 0.39291277527809143)]"
      ]
     },
     "execution_count": 17,
     "metadata": {},
     "output_type": "execute_result"
    }
   ],
   "source": [
    "model.wv.most_similar(positive='thank',topn=10)"
   ]
  },
  {
   "cell_type": "code",
   "execution_count": 18,
   "id": "3033ee2d",
   "metadata": {},
   "outputs": [
    {
     "data": {
      "text/plain": [
       "'play'"
      ]
     },
     "execution_count": 18,
     "metadata": {},
     "output_type": "execute_result"
    }
   ],
   "source": [
    "model.wv.doesnt_match(['food','drink','play'])"
   ]
  },
  {
   "cell_type": "code",
   "execution_count": 19,
   "id": "c2c72159",
   "metadata": {},
   "outputs": [
    {
     "data": {
      "text/plain": [
       "[('queen', 0.5080788135528564)]"
      ]
     },
     "execution_count": 19,
     "metadata": {},
     "output_type": "execute_result"
    }
   ],
   "source": [
    "model.wv.most_similar(positive=['king','woman'],negative=['man'],topn=1)"
   ]
  },
  {
   "cell_type": "code",
   "execution_count": null,
   "id": "f3525e92",
   "metadata": {},
   "outputs": [],
   "source": []
  },
  {
   "cell_type": "code",
   "execution_count": null,
   "id": "2afac36b",
   "metadata": {},
   "outputs": [],
   "source": []
  }
 ],
 "metadata": {
  "kernelspec": {
   "display_name": "Python 3 (ipykernel)",
   "language": "python",
   "name": "python3"
  },
  "language_info": {
   "codemirror_mode": {
    "name": "ipython",
    "version": 3
   },
   "file_extension": ".py",
   "mimetype": "text/x-python",
   "name": "python",
   "nbconvert_exporter": "python",
   "pygments_lexer": "ipython3",
   "version": "3.12.7"
  }
 },
 "nbformat": 4,
 "nbformat_minor": 5
}
