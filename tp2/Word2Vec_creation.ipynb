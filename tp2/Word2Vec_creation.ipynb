{
 "cells": [
  {
   "cell_type": "markdown",
   "id": "efbf342b",
   "metadata": {},
   "source": [
    "# 0 Import"
   ]
  },
  {
   "cell_type": "code",
   "execution_count": 95,
   "id": "32c23afa",
   "metadata": {},
   "outputs": [],
   "source": [
    "import numpy as np \n",
    "np.set_printoptions(threshold=10000,suppress=True) \n",
    "import pandas as pd\n",
    "import warnings\n",
    "import matplotlib.pyplot as plt\n",
    "from sklearn.model_selection import train_test_split\n",
    "from sklearn.feature_extraction.text import TfidfVectorizer\n",
    "from gensim.parsing.preprocessing import remove_stopwords, preprocess_string\n",
    "warnings.filterwarnings('ignore')"
   ]
  },
  {
   "cell_type": "markdown",
   "id": "0c4ef259",
   "metadata": {},
   "source": [
    "# 1. Data Analyse"
   ]
  },
  {
   "cell_type": "code",
   "execution_count": null,
   "id": "3bc6a0c6",
   "metadata": {},
   "outputs": [],
   "source": [
    "data=pd.read_csv('PubMed-multi-label-dataset.csv',sep=',')\n",
    "print(len(data))\n",
    "data.head(3)"
   ]
  },
  {
   "cell_type": "code",
   "execution_count": null,
   "id": "dc560eed",
   "metadata": {},
   "outputs": [],
   "source": [
    "labels = data.iloc[:, -14:]\n",
    "print(\"count of number of 1 per Label\")\n",
    "labels.where(labels == 1).count()"
   ]
  },
  {
   "cell_type": "code",
   "execution_count": null,
   "id": "a58dc39b",
   "metadata": {},
   "outputs": [],
   "source": [
    "plt.matshow(labels.corr())"
   ]
  },
  {
   "cell_type": "markdown",
   "id": "3e1eee86",
   "metadata": {},
   "source": [
    "# 2. Modelisation"
   ]
  },
  {
   "cell_type": "markdown",
   "id": "0f282a5c",
   "metadata": {},
   "source": [
    "Pour modéliser notre problème d'apprentissage suppervisé, on défini notre plan d'attaque.\n",
    "\n",
    "### Entrées\n",
    "\n",
    "- abstractText \n",
    "- Potentiellement Title & meshMajor\n",
    "\n",
    "### Sorties\n",
    "\n",
    "- Les 14 labels\n",
    "\n",
    "### Evaluations\n",
    "\n",
    "- F1-score en raison du déséquilibre de la donnée.\n",
    "\n",
    "### Approche\n",
    "\n",
    "- Oversampling ou undersampling"
   ]
  },
  {
   "cell_type": "markdown",
   "id": "1653975a",
   "metadata": {},
   "source": [
    "# 3. Clean Data"
   ]
  },
  {
   "cell_type": "code",
   "execution_count": null,
   "id": "f674c07b",
   "metadata": {},
   "outputs": [],
   "source": [
    "import gensim\n",
    "corpus = data['abstractText'].astype(str) + data['Title'].astype(str)\n",
    "corpus"
   ]
  },
  {
   "cell_type": "code",
   "execution_count": null,
   "id": "cc620ce2",
   "metadata": {},
   "outputs": [],
   "source": [
    "corpus = corpus.apply(remove_stopwords)\n",
    "corpus = corpus.apply(preprocess_string)\n",
    "corpus = corpus.apply(lambda x : ' '.join(x))\n",
    "corpus"
   ]
  },
  {
   "cell_type": "code",
   "execution_count": null,
   "id": "78bbc6c1",
   "metadata": {},
   "outputs": [],
   "source": [
    "title = data['Title'].astype(str)\n",
    "title = title.apply(remove_stopwords)\n",
    "title = title.apply(preprocess_string)\n",
    "title = title.apply(lambda x : ' '.join(x))\n",
    "title"
   ]
  },
  {
   "cell_type": "code",
   "execution_count": 129,
   "id": "26888f22",
   "metadata": {},
   "outputs": [],
   "source": [
    "#X_train, X_test, y_train, y_test = train_test_split(corpus, labels, test_size=0.5)"
   ]
  },
  {
   "cell_type": "markdown",
   "id": "cb0ae999",
   "metadata": {},
   "source": [
    "## Apprentissage du Word2vec"
   ]
  },
  {
   "cell_type": "code",
   "execution_count": 134,
   "id": "af726910",
   "metadata": {},
   "outputs": [],
   "source": [
    "corpus_w2v = corpus.apply(lambda line : gensim.utils.simple_preprocess((line)))"
   ]
  },
  {
   "cell_type": "code",
   "execution_count": null,
   "id": "fba78cea",
   "metadata": {},
   "outputs": [],
   "source": [
    "import multiprocessing\n",
    "cores=multiprocessing.cpu_count()\n",
    "cores"
   ]
  },
  {
   "cell_type": "code",
   "execution_count": 136,
   "id": "a98fb377",
   "metadata": {},
   "outputs": [],
   "source": [
    "model_size=100\n",
    "model=gensim.models.Word2Vec(corpus_w2v, vector_size=model_size, sg=0, window=5, min_count=2, workers=cores-1)"
   ]
  },
  {
   "cell_type": "code",
   "execution_count": null,
   "id": "aa2427ba",
   "metadata": {
    "scrolled": true
   },
   "outputs": [],
   "source": [
    "for i in range(100):\n",
    "    model.train(corpus_w2v, total_examples=len(corpus_w2v), epochs=1)\n",
    "    print(i, end=' ')"
   ]
  },
  {
   "cell_type": "code",
   "execution_count": null,
   "id": "4dd83181",
   "metadata": {},
   "outputs": [],
   "source": [
    "model.save('./models/Word2vec_entraine.h5')\n",
    "len(model.wv.index_to_key)"
   ]
  },
  {
   "cell_type": "code",
   "execution_count": null,
   "id": "c8eccd62",
   "metadata": {},
   "outputs": [],
   "source": [
    "corpus"
   ]
  },
  {
   "cell_type": "code",
   "execution_count": null,
   "id": "9dda27a7",
   "metadata": {},
   "outputs": [],
   "source": [
    "tfidf = TfidfVectorizer()\n",
    "tfidf.fit_transform(corpus)\n",
    "tfidf_dict = {}\n",
    "for ele1, ele2 in zip(tfidf.get_feature_names_out(), tfidf.idf_):\n",
    "    tfidf_dict[ele1] = ele2\n",
    "tfidf_dict"
   ]
  },
  {
   "cell_type": "code",
   "execution_count": null,
   "id": "93479d24",
   "metadata": {},
   "outputs": [],
   "source": [
    "model=gensim.models.Word2Vec.load('./models/Word2vec_entraine.h5')\n",
    "def encode_sentence(sentence: str):\n",
    "    vec = np.zeros((1, model.vector_size))\n",
    "    for word in sentence.split(\" \"):\n",
    "        try:\n",
    "            if word in tfidf_dict.keys():\n",
    "                vec += tfidf_dict[word] * model.wv[word]\n",
    "            else:\n",
    "                vec += model.wv[word]\n",
    "        except:\n",
    "            pass\n",
    "    return vec\n",
    "\n",
    "encode_sentence(\"paraffin embed tissu section patient\")"
   ]
  },
  {
   "cell_type": "code",
   "execution_count": null,
   "id": "ef918daa",
   "metadata": {},
   "outputs": [],
   "source": [
    "title2 = title.apply(encode_sentence)"
   ]
  },
  {
   "cell_type": "code",
   "execution_count": null,
   "id": "d2c62325",
   "metadata": {},
   "outputs": [],
   "source": [
    "model.wv['easy']"
   ]
  },
  {
   "cell_type": "code",
   "execution_count": null,
   "id": "9500be5a",
   "metadata": {},
   "outputs": [],
   "source": [
    "model.wv.most_similar(positive='easy',topn=10)"
   ]
  },
  {
   "cell_type": "code",
   "execution_count": null,
   "id": "3033ee2d",
   "metadata": {},
   "outputs": [],
   "source": [
    "model.wv.doesnt_match(['food','drink','play'])"
   ]
  },
  {
   "cell_type": "code",
   "execution_count": null,
   "id": "c2c72159",
   "metadata": {},
   "outputs": [],
   "source": [
    "model.wv.most_similar(positive=['king','woman'],negative=['man'],topn=10)"
   ]
  },
  {
   "cell_type": "code",
   "execution_count": null,
   "id": "2fac155f",
   "metadata": {},
   "outputs": [],
   "source": []
  }
 ],
 "metadata": {
  "kernelspec": {
   "display_name": ".venv",
   "language": "python",
   "name": "python3"
  },
  "language_info": {
   "codemirror_mode": {
    "name": "ipython",
    "version": 3
   },
   "file_extension": ".py",
   "mimetype": "text/x-python",
   "name": "python",
   "nbconvert_exporter": "python",
   "pygments_lexer": "ipython3",
   "version": "3.12.8"
  }
 },
 "nbformat": 4,
 "nbformat_minor": 5
}
